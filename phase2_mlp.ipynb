{
 "cells": [
  {
   "cell_type": "code",
   "execution_count": null,
   "metadata": {},
   "outputs": [],
   "source": [
    "import torch\n",
    "import numpy as np\n",
    "import twophase.coord as coord\n",
    "import twophase.cubie as cubie\n",
    "import torch.nn as nn\n",
    "import torch.optim as optim\n",
    "import pickle\n",
    "\n",
    "def generate_data(num_samples):\n",
    "    # Initialize lists to store the values\n",
    "    co_values, eo_values, ud_slice_values, N_values = [], [], [], []\n",
    "\n",
    "    for _ in range(num_samples):\n",
    "        cube = cubie.CubieCube()\n",
    "        cube.randomize()\n",
    "\n",
    "        # Get values for co, eo, and ud_slice\n",
    "        co, eo, ud_slice = cube.get_twist(), cube.get_flip(), cube.get_slice()\n",
    "        co_values.append(co)\n",
    "        eo_values.append(eo)\n",
    "        ud_slice_values.append(ud_slice)\n",
    "\n",
    "        # Get the depth for phase 1 (N value)\n",
    "        N = coord.CoordCube(cube).get_depth_phase1()\n",
    "        N_values.append(N)\n",
    "\n",
    "    # Convert lists to numpy arrays and then to PyTorch tensors\n",
    "    X = np.column_stack([co_values, eo_values, ud_slice_values])\n",
    "    N = np.array(N_values)\n",
    "\n",
    "    return torch.tensor(X, dtype=torch.float32), torch.tensor(N, dtype=torch.float32).view(-1, 1)\n",
    "\n",
    "# Generate training and test datasets\n",
    "train_X, train_Y = generate_data(1000)  # 1000 training samples\n",
    "test_X, test_Y = generate_data(200)     # 200 test samples"
   ]
  }
 ],
 "metadata": {
  "kernelspec": {
   "display_name": "thesis",
   "language": "python",
   "name": "python3"
  },
  "language_info": {
   "name": "python",
   "version": "3.11.5"
  }
 },
 "nbformat": 4,
 "nbformat_minor": 2
}
